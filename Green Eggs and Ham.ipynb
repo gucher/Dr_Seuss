{
 "cells": [
  {
   "cell_type": "markdown",
   "metadata": {},
   "source": [
    "## 'Green Eggs And Ham' by Dr. Seuss"
   ]
  },
  {
   "cell_type": "markdown",
   "metadata": {},
   "source": [
    "#### In 1960, Dr. Seuss wrote a 34 page children's book using a vocabulary of only 50 words.\n",
    "#### This is an analysis of those words..."
   ]
  },
  {
   "cell_type": "code",
   "execution_count": 1,
   "metadata": {},
   "outputs": [
    {
     "name": "stdout",
     "output_type": "stream",
     "text": [
      "[nltk_data] Downloading package averaged_perceptron_tagger to\n",
      "[nltk_data]     C:\\Users\\grant.bucher\\AppData\\Roaming\\nltk_data...\n",
      "[nltk_data]   Package averaged_perceptron_tagger is already up-to-\n",
      "[nltk_data]       date!\n"
     ]
    },
    {
     "data": {
      "text/plain": [
       "True"
      ]
     },
     "execution_count": 1,
     "metadata": {},
     "output_type": "execute_result"
    }
   ],
   "source": [
    "# import modules\n",
    "import os\n",
    "import re # might use\n",
    "import matplotlib\n",
    "import seaborn # exploratory\n",
    "import numpy as np\n",
    "import pandas as pd\n",
    "import nltk\n",
    "# PunktSentencetokenizer is an unsupervised machine learning tokenizer\n",
    "from nltk.tokenize import PunktSentenceTokenizer\n",
    "# download the averaged_perceptron_tagger\n",
    "nltk.download('averaged_perceptron_tagger')"
   ]
  },
  {
   "cell_type": "markdown",
   "metadata": {},
   "source": [
    "##### Set up our variables and pandas DataFrame"
   ]
  },
  {
   "cell_type": "code",
   "execution_count": 2,
   "metadata": {},
   "outputs": [
    {
     "name": "stdout",
     "output_type": "stream",
     "text": [
      "Q:\\My Documents\\Python Q Drive\\Python Q Drive Datasets\\Green Eggs and Ham Word Analysis.xlsx\n"
     ]
    }
   ],
   "source": [
    "# set path\n",
    "path = 'Q:\\\\My Documents\\\\Python Q Drive\\\\Python Q Drive Datasets\\\\'\n",
    "\n",
    "# set file\n",
    "f = 'Green Eggs and Ham Word Analysis.xlsx'\n",
    "\n",
    "# change directory\n",
    "chdir = os.chdir(path)\n",
    "\n",
    "# variable for full_file_path\n",
    "full_file_path = path + f\n",
    "print(full_file_path)\n",
    "\n",
    "# assign df to pandas read excel sheet 'Green Eggs and Ham' from full_file_path\n",
    "df = pd.read_excel(full_file_path, sheet_name='Green Eggs and Ham')"
   ]
  },
  {
   "cell_type": "code",
   "execution_count": 3,
   "metadata": {
    "scrolled": true
   },
   "outputs": [
    {
     "name": "stdout",
     "output_type": "stream",
     "text": [
      "0: Word Index - object\n",
      "1: Word - object\n",
      "2: Page - object\n",
      "3: Amy - POS - object\n",
      "4: Order Word Appeared - object\n"
     ]
    }
   ],
   "source": [
    "# print index, column name, and data type\n",
    "i = 0\n",
    "column_names_index = []\n",
    "for index in df.columns.values:\n",
    "    column_names_index.append(str(i) + \": \" + index + \" - \" + str(df.iloc[i].dtypes))\n",
    "    i += 1\n",
    "# print index, column, data for each line\n",
    "# map string to field if not all str\n",
    "print('\\n'.join(map(str, column_names_index)))"
   ]
  },
  {
   "cell_type": "code",
   "execution_count": 4,
   "metadata": {},
   "outputs": [
    {
     "name": "stdout",
     "output_type": "stream",
     "text": [
      "   Word Index Word  Page Amy - POS  Order Word Appeared\n",
      "0           1    I     6   pronoun                    1\n",
      "1           2   am     6      verb                    2\n",
      "2           3  sam     6      noun                    3\n",
      "3           4  sam     7      noun                    3\n",
      "4           5    I     7   pronoun                    1\n"
     ]
    }
   ],
   "source": [
    "# preview beginning rows\n",
    "print(df.head())"
   ]
  },
  {
   "cell_type": "markdown",
   "metadata": {},
   "source": [
    "##### We will be comparing user detected Part of Speech (Amy - POS) vs nltk POS"
   ]
  },
  {
   "cell_type": "code",
   "execution_count": 5,
   "metadata": {},
   "outputs": [
    {
     "name": "stdout",
     "output_type": "stream",
     "text": [
      "     Word Index   Word  Page Amy - POS  Order Word Appeared\n",
      "804         805  thank    34      verb                   50\n",
      "805         806    you    34      noun                    8\n",
      "806         807    sam    34      noun                    3\n",
      "807         808      I    34   pronoun                    1\n",
      "808         809     am    34      verb                    2\n"
     ]
    }
   ],
   "source": [
    "# preview end rows\n",
    "print(df.tail())"
   ]
  },
  {
   "cell_type": "markdown",
   "metadata": {},
   "source": [
    "##### How many distinct words are in Green Eggs and Ham?"
   ]
  },
  {
   "cell_type": "code",
   "execution_count": 6,
   "metadata": {
    "scrolled": true
   },
   "outputs": [
    {
     "name": "stdout",
     "output_type": "stream",
     "text": [
      "['I', 'am', 'sam', 'that', 'do', 'not', 'like', 'you', 'green', 'eggs', 'and', 'ham', 'them', 'would', 'here', 'or', 'there', 'anywhere', 'in', 'a', 'house', 'with', 'mouse', 'eat', 'box', 'fox', 'could', 'car', 'they', 'are', 'may', 'will', 'see', 'tree', 'let', 'me', 'be', 'train', 'on', 'say', 'the', 'dark', 'rain', 'goat', 'boat', 'so', 'try', 'if', 'good', 'thank']\n",
      "\n",
      "\n",
      "There are 50 distinct words in Green Eggs and Ham\n"
     ]
    }
   ],
   "source": [
    "# create pd series\n",
    "# s_distinct_words = pd.Series(pd.Categorical(df['Word'])).unique()\n",
    "s_distinct_words = pd.Series(df['Word'].unique()).tolist()\n",
    "print(s_distinct_words)\n",
    "print('\\n')\n",
    "print('There are ' + str(len(s_distinct_words)) + ' distinct words in Green Eggs and Ham')"
   ]
  },
  {
   "cell_type": "markdown",
   "metadata": {},
   "source": [
    "##### Let's reshape the data for our analysis"
   ]
  },
  {
   "cell_type": "code",
   "execution_count": 7,
   "metadata": {
    "scrolled": true
   },
   "outputs": [
    {
     "name": "stdout",
     "output_type": "stream",
     "text": [
      "  Word  Count  Page User POS\n",
      "0    I     84     6  pronoun\n",
      "1   am     15     6     verb\n",
      "2  sam     18     6     noun\n",
      "3  sam     18     7     noun\n",
      "4    I     84     7  pronoun\n"
     ]
    }
   ],
   "source": [
    "# get count of unique words\n",
    "# using series and value_counts()\n",
    "# df = df['Word'].value_counts()\n",
    "# using dataframe, groupby, and count\n",
    "# df = df.groupby('Word')['Word'].count()\n",
    "\n",
    "# new DataFrame for words and count\n",
    "df1 = pd.DataFrame(df['Word'].values, columns = ['Word'])\n",
    "\n",
    "# add count of words\n",
    "df1['Count'] = df1.Word.groupby(df1.Word).transform('count')\n",
    "\n",
    "# let's add the page number and user completed POS to df1\n",
    "df1 = df1.join(df[['Page','Amy - POS']])\n",
    "\n",
    "# rename columns\n",
    "df1 = df1.rename({'Amy - POS':'User POS'}, axis='columns')\n",
    "\n",
    "print(df1.head())"
   ]
  },
  {
   "cell_type": "markdown",
   "metadata": {},
   "source": [
    "##### What words were used most often?"
   ]
  },
  {
   "cell_type": "code",
   "execution_count": 8,
   "metadata": {},
   "outputs": [
    {
     "name": "stdout",
     "output_type": "stream",
     "text": [
      "Top 10 Words by Count: \n",
      "\n",
      "    Word  Count\n",
      "0      I     84\n",
      "1    not     84\n",
      "2   them     61\n",
      "3      a     59\n",
      "4   like     44\n",
      "5     in     40\n",
      "6     do     37\n",
      "7    you     34\n",
      "8  would     26\n",
      "9    and     25\n"
     ]
    }
   ],
   "source": [
    "# df2 has dropped duplicates for easy viewing on columns [['Word','Count']]\n",
    "df2 = df1[['Word','Count']].drop_duplicates()\n",
    "\n",
    "# print word count, descending\n",
    "print('Top 10 Words by Count: ' + '\\n' + '\\n' + str(df2.sort_values(by='Count',ascending=False).reset_index(drop=True).head(10)))"
   ]
  },
  {
   "cell_type": "markdown",
   "metadata": {},
   "source": [
    "##### In what pages do the words appear?"
   ]
  },
  {
   "cell_type": "code",
   "execution_count": 9,
   "metadata": {},
   "outputs": [
    {
     "name": "stdout",
     "output_type": "stream",
     "text": [
      "I is on pages: [6, 7, 8, 8, 8, 8, 10, 10, 10, 12, 12, 12, 12, 12, 14, 14, 14, 14, 14, 14, 14, 16, 16, 16, 16, 16, 17, 19, 19, 19, 19, 19, 19, 19, 19, 19, 19, 21, 21, 21, 21, 21, 21, 21, 21, 21, 22, 23, 23, 23, 23, 24, 24, 25, 27, 27, 27, 27, 27, 27, 27, 27, 27, 27, 28, 29, 29, 30, 31, 32, 32, 32, 32, 32, 32, 33, 33, 33, 33, 33, 33, 33, 34, 34]\n",
      "\n",
      "am is on pages: [6, 7, 8, 8, 8, 10, 12, 14, 16, 19, 21, 24, 29, 32, 34]\n",
      "\n",
      "sam is on pages: [6, 7, 8, 8, 8, 10, 12, 14, 16, 19, 21, 21, 23, 24, 29, 31, 32, 34]\n",
      "\n",
      "that is on pages: [8, 8, 8]\n",
      "\n",
      "do is on pages: [8, 9, 10, 10, 12, 12, 14, 14, 14, 14, 14, 14, 16, 19, 19, 19, 19, 19, 19, 19, 19, 21, 21, 23, 23, 24, 24, 27, 27, 27, 27, 27, 28, 29, 30, 32, 34]\n",
      "\n",
      "not is on pages: [8, 10, 10, 12, 12, 12, 12, 14, 14, 14, 14, 14, 14, 16, 16, 16, 16, 16, 16, 16, 16, 17, 17, 19, 19, 19, 19, 19, 19, 19, 19, 19, 19, 19, 20, 21, 21, 21, 21, 21, 21, 21, 21, 21, 21, 21, 21, 22, 22, 23, 23, 23, 23, 23, 23, 23, 23, 23, 23, 23, 23, 23, 24, 24, 25, 25, 27, 27, 27, 27, 27, 27, 27, 27, 27, 27, 27, 27, 27, 27, 27, 28, 29, 30]\n",
      "\n",
      "like is on pages: [8, 9, 10, 10, 11, 12, 12, 12, 12, 13, 13, 14, 14, 14, 14, 14, 14, 16, 18, 18, 19, 19, 19, 19, 19, 19, 19, 19, 21, 23, 23, 24, 24, 27, 27, 27, 27, 27, 28, 29, 30, 32, 32, 34]\n",
      "\n",
      "you is on pages: [9, 11, 13, 13, 15, 15, 17, 17, 18, 18, 18, 19, 20, 20, 22, 22, 23, 23, 23, 24, 25, 25, 26, 26, 27, 30, 30, 30, 30, 31, 31, 33, 34, 34]\n",
      "\n",
      "green is on pages: [9, 10, 12, 14, 16, 19, 21, 24, 28, 32, 34]\n",
      "\n",
      "eggs is on pages: [9, 10, 12, 14, 16, 19, 21, 24, 28, 32, 34]\n",
      "\n",
      "and is on pages: [9, 10, 12, 14, 16, 19, 21, 24, 28, 30, 30, 32, 32, 32, 33, 33, 33, 33, 33, 33, 33, 33, 33, 33, 34]\n",
      "\n",
      "ham is on pages: [9, 10, 12, 14, 16, 19, 21, 24, 28, 32, 34]\n",
      "\n",
      "them is on pages: [10, 11, 12, 12, 12, 13, 13, 14, 14, 14, 14, 14, 15, 15, 16, 16, 16, 17, 17, 18, 18, 19, 19, 19, 19, 19, 19, 19, 21, 21, 21, 21, 21, 23, 23, 23, 24, 27, 27, 27, 27, 27, 27, 27, 27, 29, 30, 30, 30, 30, 31, 32, 32, 32, 33, 33, 33, 33, 33, 33, 33]\n",
      "\n",
      "would is on pages: [11, 12, 12, 13, 13, 15, 15, 16, 16, 16, 17, 17, 19, 20, 21, 21, 22, 22, 23, 23, 25, 25, 26, 27, 32, 32]\n",
      "\n",
      "here is on pages: [11, 12, 14, 16, 17, 19, 21, 22, 23, 27, 33]\n",
      "\n",
      "or is on pages: [11, 12, 14, 16, 19, 21, 23, 27]\n",
      "\n",
      "there is on pages: [11, 12, 14, 16, 19, 21, 23, 27, 33]\n",
      "\n",
      "anywhere is on pages: [12, 14, 16, 19, 21, 23, 27, 33]\n",
      "\n",
      "in is on pages: [13, 14, 15, 16, 16, 17, 17, 18, 19, 19, 19, 19, 21, 21, 21, 21, 22, 22, 22, 22, 23, 23, 23, 23, 23, 23, 23, 27, 27, 27, 27, 27, 27, 32, 33, 33, 33, 33, 33, 33]\n",
      "\n",
      "a is on pages: [13, 13, 14, 14, 15, 15, 16, 16, 16, 16, 17, 17, 18, 19, 19, 19, 19, 19, 19, 20, 20, 20, 20, 20, 20, 21, 21, 21, 21, 21, 21, 23, 23, 23, 23, 23, 23, 23, 25, 25, 26, 27, 27, 27, 27, 27, 27, 27, 27, 27, 32, 32, 33, 33, 33, 33, 33, 33, 33]\n",
      "\n",
      "house is on pages: [13, 14, 16, 19, 21, 23, 27, 33]\n",
      "\n",
      "with is on pages: [13, 14, 15, 16, 16, 19, 19, 21, 21, 23, 23, 25, 25, 27, 27, 27, 32, 33, 33]\n",
      "\n",
      "mouse is on pages: [13, 14, 16, 19, 21, 23, 27, 33]\n",
      "\n",
      "eat is on pages: [15, 15, 16, 16, 16, 17, 17, 21, 21, 21, 21, 21, 23, 27, 27, 27, 32, 32, 33, 33, 33, 33, 33, 33, 33]\n",
      "\n",
      "box is on pages: [15, 16, 19, 21, 23, 27, 33]\n",
      "\n",
      "fox is on pages: [15, 16, 19, 21, 23, 27, 33]\n",
      "\n",
      "could is on pages: [17, 17, 19, 20, 21, 21, 22, 22, 23, 23, 25, 25, 26, 27]\n",
      "\n",
      "car is on pages: [17, 17, 19, 21, 23, 27, 33]\n",
      "\n",
      "they is on pages: [17, 33]\n",
      "\n",
      "are is on pages: [17, 33]\n",
      "\n",
      "may is on pages: [18, 18, 30, 30]\n",
      "\n",
      "will is on pages: [18, 21, 21, 21, 21, 23, 27, 27, 27, 27, 27, 31, 31, 31, 33, 33, 33, 33, 33, 33, 33]\n",
      "\n",
      "see is on pages: [18, 23, 31, 33]\n",
      "\n",
      "tree is on pages: [18, 19, 21, 23, 27, 33]\n",
      "\n",
      "let is on pages: [19, 21, 27, 31]\n",
      "\n",
      "me is on pages: [19, 21, 27, 31]\n",
      "\n",
      "be is on pages: [19, 21, 27, 31]\n",
      "\n",
      "train is on pages: [20, 20, 20, 20, 20, 20, 23, 27, 33]\n",
      "\n",
      "on is on pages: [20, 20, 23, 26, 27, 27, 33]\n",
      "\n",
      "say is on pages: [22, 30, 30, 32, 33]\n",
      "\n",
      "the is on pages: [22, 22, 22, 22, 23, 23, 23, 27, 27, 33, 33]\n",
      "\n",
      "dark is on pages: [22, 22, 22, 22, 23, 27, 33]\n",
      "\n",
      "rain is on pages: [23, 23, 27, 33]\n",
      "\n",
      "goat is on pages: [25, 25, 27, 32]\n",
      "\n",
      "boat is on pages: [26, 27, 32]\n",
      "\n",
      "so is on pages: [30, 33, 33, 33, 34]\n",
      "\n",
      "try is on pages: [30, 30, 30, 31]\n",
      "\n",
      "if is on pages: [31]\n",
      "\n",
      "good is on pages: [33, 33]\n",
      "\n",
      "thank is on pages: [34, 34]\n",
      "\n"
     ]
    }
   ],
   "source": [
    "# create a dictionary for {word : [pages, pages, pages...]}\n",
    "word_count_dict = {}\n",
    "\n",
    "# for word in unique list of words from df['Word'] columns\n",
    "for word in df1['Word'].unique().tolist():\n",
    "#     list_slice is dataframe where word = each word in word list\n",
    "    list_slice = df1[df1['Word'] == word]\n",
    "#     assign word from list in word_count_dict key\n",
    "#     the values of page column for that word, into a list\n",
    "    word_count_dict[word] = list_slice['Page'].tolist()\n",
    "# print(word_count_dict)\n",
    "        \n",
    "for i in word_count_dict:\n",
    "    print(i + ' is on pages: ' + str(word_count_dict[i]) + '\\n')"
   ]
  },
  {
   "cell_type": "markdown",
   "metadata": {},
   "source": [
    "##### Create full text list and distinct words"
   ]
  },
  {
   "cell_type": "code",
   "execution_count": 10,
   "metadata": {},
   "outputs": [
    {
     "name": "stdout",
     "output_type": "stream",
     "text": [
      "Sample list of full text:\n",
      "['I', 'am', 'sam', 'sam', 'I', 'am', 'that', 'sam', 'I', 'am', 'that', 'sam', 'I', 'am', 'I', 'do', 'not', 'like', 'that', 'sam', 'I', 'am']\n"
     ]
    }
   ],
   "source": [
    "# create list of full text\n",
    "full_text_list = pd.Series(df['Word']).tolist()\n",
    "# print sample of full text\n",
    "print('Sample list of full text:')\n",
    "print(full_text_list[:22])"
   ]
  },
  {
   "cell_type": "code",
   "execution_count": 11,
   "metadata": {},
   "outputs": [
    {
     "name": "stdout",
     "output_type": "stream",
     "text": [
      "List of distinct words:\n",
      "['I', 'am', 'sam', 'that', 'do', 'not', 'like', 'you', 'green', 'eggs', 'and', 'ham', 'them', 'would', 'here', 'or', 'there', 'anywhere', 'in', 'a', 'house', 'with', 'mouse', 'eat', 'box', 'fox', 'could', 'car', 'they', 'are', 'may', 'will', 'see', 'tree', 'let', 'me', 'be', 'train', 'on', 'say', 'the', 'dark', 'rain', 'goat', 'boat', 'so', 'try', 'if', 'good', 'thank']\n"
     ]
    }
   ],
   "source": [
    "# use s_distrinct_words series and create distinct word list\n",
    "# s_distinct_words = pd.Series(pd.Categorical(df['Word'])).unique()\n",
    "print('List of distinct words:')\n",
    "print(s_distinct_words)\n",
    "\n",
    "# could do as a set but let's keep using pandas\n",
    "# full_text_set = sorted(set(full_text_list), key=full_text_list.index)"
   ]
  },
  {
   "cell_type": "code",
   "execution_count": 12,
   "metadata": {},
   "outputs": [
    {
     "name": "stdout",
     "output_type": "stream",
     "text": [
      "Distinct words as str:\n",
      "I am sam that do not like you green eggs and ham them would here or there anywhere in a house with mouse eat box fox could car they are may will see tree let me be train on say the dark rain goat boat so try if good thank\n"
     ]
    }
   ],
   "source": [
    "# assign distinct words to string variable\n",
    "distinct_words_str = (\" \".join(s_distinct_words))\n",
    "print('Distinct words as str:')\n",
    "print(distinct_words_str)"
   ]
  },
  {
   "cell_type": "markdown",
   "metadata": {},
   "source": [
    "### Let's start using nltk!"
   ]
  },
  {
   "cell_type": "markdown",
   "metadata": {},
   "source": [
    "##### What parts of speech were used?"
   ]
  },
  {
   "cell_type": "code",
   "execution_count": 13,
   "metadata": {},
   "outputs": [
    {
     "data": {
      "text/plain": [
       "[('I', 'PRP'),\n",
       " ('am', 'VBP'),\n",
       " ('sam', 'JJ'),\n",
       " ('that', 'WDT'),\n",
       " ('do', 'VBP'),\n",
       " ('not', 'RB'),\n",
       " ('like', 'IN'),\n",
       " ('you', 'PRP'),\n",
       " ('green', 'VBP'),\n",
       " ('eggs', 'NNS'),\n",
       " ('and', 'CC'),\n",
       " ('ham', 'VB'),\n",
       " ('them', 'PRP'),\n",
       " ('would', 'MD'),\n",
       " ('here', 'RB'),\n",
       " ('or', 'CC'),\n",
       " ('there', 'RB'),\n",
       " ('anywhere', 'RB'),\n",
       " ('in', 'IN'),\n",
       " ('a', 'DT'),\n",
       " ('house', 'NN'),\n",
       " ('with', 'IN'),\n",
       " ('mouse', 'NN'),\n",
       " ('eat', 'NN'),\n",
       " ('box', 'NN'),\n",
       " ('fox', 'NN'),\n",
       " ('could', 'MD'),\n",
       " ('car', 'NN'),\n",
       " ('they', 'PRP'),\n",
       " ('are', 'VBP'),\n",
       " ('may', 'MD'),\n",
       " ('will', 'MD'),\n",
       " ('see', 'VB'),\n",
       " ('tree', 'JJ'),\n",
       " ('let', 'VB'),\n",
       " ('me', 'PRP'),\n",
       " ('be', 'VB'),\n",
       " ('train', 'VBN'),\n",
       " ('on', 'IN'),\n",
       " ('say', 'VBP'),\n",
       " ('the', 'DT'),\n",
       " ('dark', 'JJ'),\n",
       " ('rain', 'NN'),\n",
       " ('goat', 'NN'),\n",
       " ('boat', 'NN'),\n",
       " ('so', 'RB'),\n",
       " ('try', 'VB'),\n",
       " ('if', 'IN'),\n",
       " ('good', 'JJ'),\n",
       " ('thank', 'NN')]"
      ]
     },
     "execution_count": 13,
     "metadata": {},
     "output_type": "execute_result"
    }
   ],
   "source": [
    "# tokenize set of text\n",
    "tokenized = PunktSentenceTokenizer(distinct_words_str).tokenize(distinct_words_str)\n",
    "\n",
    "def process_content():\n",
    "    try:\n",
    "#         for each word in tokenized (full text)\n",
    "        for i in tokenized:\n",
    "#         assign the nltk.word_tokenize to word\n",
    "            words = nltk.word_tokenize(i)\n",
    "#         assign nltk.pos_tag to the word\n",
    "            tagged = nltk.pos_tag(words)\n",
    "#         print the word and POS\n",
    "#             print(tagged)\n",
    "            return tagged\n",
    "    except Exception as e:\n",
    "        print(str(e))\n",
    "# RUN IT!\n",
    "process_content()"
   ]
  },
  {
   "cell_type": "markdown",
   "metadata": {},
   "source": [
    "##### This is hard to read; do we have a key?"
   ]
  },
  {
   "cell_type": "code",
   "execution_count": 14,
   "metadata": {},
   "outputs": [],
   "source": [
    "pos_tag_dict = {\n",
    "    'CC' : 'coordinating conjunction',\n",
    "    'CD' : 'cardinal digit',\n",
    "    'DT' : 'determiner',\n",
    "    'EX' : 'existential there',\n",
    "    'FW' : 'foreign word',\n",
    "    'IN' : 'preposition/subordinating conjunction',\n",
    "    'JJ' : 'adjective',\n",
    "    'JJR' : 'adjective, comparative',\n",
    "    'JJS' : 'adjective, superlative',\n",
    "    'LS' : 'list maker',\n",
    "    'MD' : 'modal',\n",
    "    'NN' : 'noun, singular',\n",
    "    'NNS' : 'noun plural',\n",
    "    'NNP' : 'proper noun, singular',\n",
    "    'NNPS' : 'proper noun, singular',\n",
    "    'PDT' : 'predeterminer',\n",
    "    'POS' : 'possessive ending',\n",
    "    'PRP' : 'possessive pronoun',\n",
    "    'RB' : 'adverb',\n",
    "    'RBR' : 'adverb, comparative',\n",
    "    'RBS' : 'adverb, superlative',\n",
    "    'RP' : 'particle',\n",
    "    'TO' : 'to go',\n",
    "    'UH' : 'interjection',\n",
    "    'VB' : 'verb, base form',\n",
    "    'VBD' : 'verb, past tense',\n",
    "    'VBG' : 'verb, gerund/present participle',\n",
    "    'VBN' : 'verb past participle',\n",
    "    'VBP' : 'ver, sing. present, non-3d',\n",
    "    'VBZ' : 'verb, 3rd person sing. present',\n",
    "    'WDT' : 'wh-determiner',\n",
    "    'WP' : 'wh-pronoun',\n",
    "    'WP' : 'possessive wh-pronoun',\n",
    "    'WRB' : 'wh-adverb'   \n",
    "}"
   ]
  },
  {
   "cell_type": "code",
   "execution_count": 15,
   "metadata": {},
   "outputs": [
    {
     "name": "stdout",
     "output_type": "stream",
     "text": [
      "{'I': 'possessive pronoun', 'am': 'ver, sing. present, non-3d', 'sam': 'adjective', 'that': 'wh-determiner', 'do': 'ver, sing. present, non-3d', 'not': 'adverb', 'like': 'preposition/subordinating conjunction', 'you': 'possessive pronoun', 'green': 'ver, sing. present, non-3d', 'eggs': 'noun plural', 'and': 'coordinating conjunction', 'ham': 'verb, base form', 'them': 'possessive pronoun', 'would': 'modal', 'here': 'adverb', 'or': 'coordinating conjunction', 'there': 'adverb', 'anywhere': 'adverb', 'in': 'preposition/subordinating conjunction', 'a': 'determiner', 'house': 'noun, singular', 'with': 'preposition/subordinating conjunction', 'mouse': 'noun, singular', 'eat': 'noun, singular', 'box': 'noun, singular', 'fox': 'noun, singular', 'could': 'modal', 'car': 'noun, singular', 'they': 'possessive pronoun', 'are': 'ver, sing. present, non-3d', 'may': 'modal', 'will': 'modal', 'see': 'verb, base form', 'tree': 'adjective', 'let': 'verb, base form', 'me': 'possessive pronoun', 'be': 'verb, base form', 'train': 'verb past participle', 'on': 'preposition/subordinating conjunction', 'say': 'ver, sing. present, non-3d', 'the': 'determiner', 'dark': 'adjective', 'rain': 'noun, singular', 'goat': 'noun, singular', 'boat': 'noun, singular', 'so': 'adverb', 'try': 'verb, base form', 'if': 'preposition/subordinating conjunction', 'good': 'adjective', 'thank': 'noun, singular'}\n"
     ]
    }
   ],
   "source": [
    "# get POS from process_content function\n",
    "pos_return = process_content()\n",
    "# join POS key with POS value from pos_tag_dict\n",
    "# new dict to store {word: POS meaning}\n",
    "pos_nltk_dict = {}\n",
    "\n",
    "# for word and pos_key in pos_return (function return value)\n",
    "for word, pos_key in pos_return:\n",
    "#     if pos_key in post_tag_dict ({pos_key : pos_value})\n",
    "    if pos_key in pos_tag_dict:\n",
    "#     add word as key to pos_nltk_dict\n",
    "#     add pos_tag_dict[pos_key] to value for key above\n",
    "#     dict structure will be:\n",
    "#     pos_nltk_dict = {word: pos_value}   \n",
    "        pos_nltk_dict[word]=pos_tag_dict[pos_key]\n",
    "        \n",
    "print(pos_nltk_dict)"
   ]
  },
  {
   "cell_type": "markdown",
   "metadata": {},
   "source": [
    "##### Are we re-running code?"
   ]
  },
  {
   "cell_type": "code",
   "execution_count": 16,
   "metadata": {},
   "outputs": [
    {
     "name": "stdout",
     "output_type": "stream",
     "text": [
      "  Word  Count  Page User POS\n",
      "0    I     84     6  pronoun\n",
      "1   am     15     6     verb\n",
      "2  sam     18     6     noun\n"
     ]
    }
   ],
   "source": [
    "# sample data and\n",
    "# check if 'nltk POS' columns is in the dataframe\n",
    "print(df1.head(3))"
   ]
  },
  {
   "cell_type": "code",
   "execution_count": 17,
   "metadata": {},
   "outputs": [],
   "source": [
    "# EASY WAY TO MAP DICT TO EXISTING DATAFRAME\n",
    "# add nltk POS from pos_nltk_dict\n",
    "# call map and pass in dictionary\n",
    "# this will perform a lookup and return the associated value for that key\n",
    "# df1['nltk POS'] = df1['Word'].map(pos_nltk_dict)\n",
    "\n",
    "# can be done with creating new df\n",
    "# passing list of dictionary items and assigning columns\n",
    "# df4 = pd.DataFrame(list(pos_nltk_dict.items()), columns=['Word','nltk POS'])"
   ]
  },
  {
   "cell_type": "code",
   "execution_count": 20,
   "metadata": {},
   "outputs": [
    {
     "name": "stdout",
     "output_type": "stream",
     "text": [
      "   Word                    nltk POS\n",
      "0     I          possessive pronoun\n",
      "1    am  ver, sing. present, non-3d\n",
      "2   sam                   adjective\n",
      "3  that               wh-determiner\n",
      "4    do  ver, sing. present, non-3d\n"
     ]
    }
   ],
   "source": [
    "# create new df with from_dict()\n",
    "df5 = pd.DataFrame.from_dict(pos_nltk_dict, orient='index', dtype='object')\n",
    "# reset_index inplace\n",
    "df5.reset_index(inplace=True)\n",
    "# rename columns inplace\n",
    "df5.rename({'index': 'Word', 0: 'nltk POS'}, axis='columns', inplace=True)\n",
    "\n",
    "print(df5.head())"
   ]
  },
  {
   "cell_type": "code",
   "execution_count": 21,
   "metadata": {},
   "outputs": [
    {
     "name": "stdout",
     "output_type": "stream",
     "text": [
      "  Word  Count  Page User POS                    nltk POS\n",
      "0    I     84     6  pronoun          possessive pronoun\n",
      "1   am     15     6     verb  ver, sing. present, non-3d\n",
      "2  sam     18     6     noun                   adjective\n",
      "3  sam     18     7     noun                   adjective\n",
      "4    I     84     7  pronoun          possessive pronoun\n"
     ]
    }
   ],
   "source": [
    "# JOIN CODE BLOCK\n",
    "# join new DataFrame from dict (df5) to primary df1\n",
    "# set df5 index to 'Word' so can join on='Word' with df1\n",
    "if 'nltk POS' not in df1.columns:\n",
    "    df1 = df1.join(df5.set_index('Word'), on='Word', lsuffix='_left', rsuffix='_right')\n",
    "    \n",
    "# *****\n",
    "# if JOIN CODE BLOCK is ran more than once, _left and _right columns will be added\n",
    "# code below will drop those columns\n",
    "# *****\n",
    "      \n",
    "for column in df1.columns:\n",
    "    if column == 'nltk POS_left':\n",
    "        pass\n",
    "        df1.drop(columns=[column], inplace=True)\n",
    "    elif column == 'nltk POS_right':\n",
    "        pass\n",
    "        df1.drop(columns=[column], inplace=True)\n",
    "\n",
    "print(df1.head())"
   ]
  },
  {
   "cell_type": "code",
   "execution_count": 30,
   "metadata": {},
   "outputs": [
    {
     "name": "stdout",
     "output_type": "stream",
     "text": [
      "  Word  Page  Cnt_Words_per_pg\n",
      "0    I     6                 3\n",
      "1   am     6                 3\n",
      "2  sam     6                 3\n",
      "3  sam     7                 3\n",
      "4    I     7                 3\n",
      "  Word  Count  Page User POS                    nltk POS  Cnt_Words_per_pg\n",
      "0    I     84     6  pronoun          possessive pronoun                 3\n",
      "1   am     15     6     verb  ver, sing. present, non-3d                 3\n",
      "2  sam     18     6     noun                   adjective                 3\n",
      "3  sam     18     7     noun                   adjective                 3\n",
      "4    I     84     7  pronoun          possessive pronoun                 3\n"
     ]
    }
   ],
   "source": [
    "# create new dataframe with cout of words on each page\n",
    "df6 = df1[['Word','Page']]\n",
    "\n",
    "# df6 is now df1's Word, Page coumns and added Cnt_word_per_pg column\n",
    "df6 = df6.assign(Cnt_Words_per_pg=df1['Page'].groupby(df1['Page']).transform('count'))\n",
    "\n",
    "# sample df6\n",
    "print(df6.head())\n",
    "\n",
    "# join Cnt_Words_per_pg column to df1\n",
    "if 'Cnt_Words_per_pg' not in df1.columns:\n",
    "# make sure column is not already there \n",
    "    df1 = df1.join(df6.set_index(['Page','Word']), on=['Page','Word'], lsuffix='_left', rsuffix='_right')\n",
    "\n",
    "print(df1.head())"
   ]
  },
  {
   "cell_type": "markdown",
   "metadata": {},
   "source": [
    "##### Let's visualize something!"
   ]
  },
  {
   "cell_type": "code",
   "execution_count": 32,
   "metadata": {},
   "outputs": [
    {
     "data": {
      "text/plain": [
       "<matplotlib.axes._subplots.AxesSubplot at 0x1b62cbe7630>"
      ]
     },
     "execution_count": 32,
     "metadata": {},
     "output_type": "execute_result"
    },
    {
     "data": {
      "image/png": "[encoded data removed]",
      "text/plain": [
       "<Figure size 432x288 with 1 Axes>"
      ]
     },
     "metadata": {
      "needs_background": "light"
     },
     "output_type": "display_data"
    }
   ],
   "source": [
    "# run matplotlib inline\n",
    "%matplotlib inline\n",
    "\n",
    "# alpha is for transparency\n",
    "# float (0.0 transparent through 1.0 opaque)\n",
    "alpha_color = 0.5\n",
    "\n",
    "df1['Word'].value_counts().plot(kind='bar')"
   ]
  },
  {
   "cell_type": "code",
   "execution_count": 38,
   "metadata": {},
   "outputs": [
    {
     "data": {
      "text/plain": [
       "<matplotlib.axes._subplots.AxesSubplot at 0x1b62de778d0>"
      ]
     },
     "execution_count": 38,
     "metadata": {},
     "output_type": "execute_result"
    },
    {
     "data": {
      "image/png": "[encoded data removed]",
      "text/plain": [
       "<Figure size 432x288 with 1 Axes>"
      ]
     },
     "metadata": {
      "needs_background": "light"
     },
     "output_type": "display_data"
    }
   ],
   "source": [
    "# scatter plot for words per page\n",
    "df1.plot(x='Cnt_Words_per_pg', y='Page', kind='scatter')"
   ]
  },
  {
   "cell_type": "code",
   "execution_count": null,
   "metadata": {},
   "outputs": [],
   "source": []
  }
 ],
 "metadata": {
  "kernelspec": {
   "display_name": "Python 3",
   "language": "python",
   "name": "python3"
  },
  "language_info": {
   "codemirror_mode": {
    "name": "ipython",
    "version": 3
   },
   "file_extension": ".py",
   "mimetype": "text/x-python",
   "name": "python",
   "nbconvert_exporter": "python",
   "pygments_lexer": "ipython3",
   "version": "3.6.6"
  }
 },
 "nbformat": 4,
 "nbformat_minor": 2
}
